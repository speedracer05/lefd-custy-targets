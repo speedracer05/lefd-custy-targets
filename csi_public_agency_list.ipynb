{
 "cells": [
  {
   "cell_type": "markdown",
   "id": "24e0f5ed",
   "metadata": {},
   "source": [
    "# Geocoding Police Fire Departments and Mapping to CSI360 Customer Locations\n",
    "\n",
    "- Import and data from CSI360 Police and Fire List.\n",
    "- Geocode addresses to obtain latitude and longitude coordinates.\n",
    "- Insert latitude and longitude columns into data file.\n",
    "- Check each department location and identify if it is within 100 miles of the customer locations.\n",
    "- Separate the dataframe for departments within 100 miles for each customer location.\n",
    "- Export the data to CSV files for further analysis and reporting."
   ]
  },
  {
   "cell_type": "code",
   "execution_count": 1,
   "id": "369d6011",
   "metadata": {},
   "outputs": [],
   "source": [
    "# Dependencies and Setup\n",
    "import pandas as pd\n",
    "from geopy.geocoders import GoogleV3\n",
    "from geopy.distance import geodesic\n",
    "# import folium # Use to create html map\n",
    "# from folium import plugins # Use to create html map\n",
    "from ratelimit import limits, sleep_and_retry\n",
    "import time\n",
    "import numpy as np # Use for Haversine formula\n",
    "\n",
    "# Manually load API key from .env file. # Remove code associated with dotenv if this works\n",
    "with open('C:/Users/jchan/csi360_fire_police/lefd-custy-targets/.env', 'r') as f:\n",
    "    for line in f:\n",
    "        if line.startswith('GOOGLE_MAPS_API_KEY'):\n",
    "            google_api_key = line.split('=')[1].strip()"
   ]
  },
  {
   "cell_type": "code",
   "execution_count": null,
   "id": "3e97bb9a",
   "metadata": {
    "scrolled": true
   },
   "outputs": [],
   "source": [
    "# Store filepath in a variable\n",
    "lefd_1_data = 'resources/data/lefd_1_data.csv'\n",
    "csi360_customers = 'resources/data/csi360_customers.csv'\n",
    "\n",
    "# Read each of the respective files (police, fire, agency_n, agency_addrs) and store into Pandas dataframe\n",
    "lefd_1_data_df = pd.read_csv(lefd_1_data)\n",
    "csi360_customers_df = pd.read_csv(csi360_customers)\n",
    "\n",
    "# Convert the 'zip' column to integer, then back to string to remove decimals\n",
    "csi360_customers_df['zip'] = csi360_customers_df['zip'].fillna(\"\").apply(lambda x: str(int(float(x))) if x != \"\" else \"\")\n",
    "\n",
    "display(lefd_1_data_df.head(), csi360_customers_df.head())"
   ]
  },
  {
   "cell_type": "code",
   "execution_count": null,
   "id": "8468e976-38b4-4ce8-8967-a8b680a73f27",
   "metadata": {},
   "outputs": [],
   "source": [
    "## Geocode CSI360 customer zip codes"
   ]
  },
  {
   "cell_type": "code",
   "execution_count": null,
   "id": "16bc26a2-b03a-4cd3-b798-1ff66a36fc14",
   "metadata": {},
   "outputs": [],
   "source": [
    "# Initialize geolocator. \n",
    "geolocator = GoogleV3(api_key=google_api_key)"
   ]
  },
  {
   "cell_type": "code",
   "execution_count": null,
   "id": "7b90105d-c220-4803-a300-d6d9fa063099",
   "metadata": {},
   "outputs": [],
   "source": [
    "# Function to get geocode based on zip code\n",
    "\n",
    "def get_lat_long(zip_code):\n",
    "    if zip_code == \"\":  # Skip empty ZIP codes\n",
    "        return None, None\n",
    "    try:\n",
    "        # Use the ZIP code directly to get the location\n",
    "        location = geolocator.geocode(zip_code)\n",
    "        if location:\n",
    "            return location.latitude, location.longitude\n",
    "        else:\n",
    "            print(f\"Geocoding failed for ZIP code: {zip_code}\")  # Log failed geocodes\n",
    "            return None, None\n",
    "    except Exception as e:\n",
    "        print(f\"Error geocoding {zip_code}: {e}\")\n",
    "        return None, None\n",
    "\n",
    "# Apply the geocode function to get Latitude and Longitude for each row in the cleaned DataFrame\n",
    "csi360_customers_df['Latitude'], csi360_customers_df['Longitude'] = zip(*csi360_customers_df['zip'].apply(get_lat_long))\n",
    "\n",
    "# Fill NaN values in 'Latitude' and 'Longitude' with empty strings\n",
    "csi360_customers_df['Latitude'] = csi360_customers_df['Latitude'].fillna(\"\")\n",
    "csi360_customers_df['Longitude'] = csi360_customers_df['Longitude'].fillna(\"\")\n",
    "\n",
    "# Print the first few rows to verify\n",
    "print(csi360_customers_df.head())\n"
   ]
  },
  {
   "cell_type": "markdown",
   "id": "195bd942-a7bd-4dfd-a3b2-2e706379219c",
   "metadata": {},
   "source": [
    "## Geocode Colorado Fire Deptartment Addresses\n"
   ]
  },
  {
   "cell_type": "code",
   "execution_count": null,
   "id": "0966f209-d5f1-4c02-b7ec-e819d2860b75",
   "metadata": {},
   "outputs": [],
   "source": [
    "# Function to get latitude and longitude from address\n",
    "# Set rate limit to 25 requests per second\n",
    "# Google geocoding API allows around 50 queries per second, I've adjusted to 25 to be safe\n",
    "RATE_LIMIT = 25  # requests per second\n",
    "TIME_PERIOD = 1  # time period in seconds\n",
    "\n",
    "# Function to get latitude and longitude from address with rate limiter\n",
    "@sleep_and_retry\n",
    "@limits(calls=RATE_LIMIT, period=TIME_PERIOD)\n",
    "def get_lat_long(address):\n",
    "    try:\n",
    "        location = geolocator.geocode(address)\n",
    "        if location:\n",
    "            return location.latitude, location.longitude\n",
    "        else:\n",
    "            return None, None\n",
    "    except Exception as e:\n",
    "        print(f\"Error geocoding {address}: {e}\")\n",
    "        return None, None"
   ]
  },
  {
   "cell_type": "code",
   "execution_count": null,
   "id": "c145b126-6c46-49d5-a50e-a1b381b2b186",
   "metadata": {},
   "outputs": [],
   "source": [
    "# Combine address fields and get latitude/longitude\n",
    "lefd_1_data_df['Full_Address'] = lefd_1_data_df['addr1'] + ', ' + lefd_1_data_df['city'] + ', ' + lefd_1_data_df['state'] + ' ' + lefd_1_data_df['zip'].astype(str)\n",
    "lefd_1_data_df['Latitude'], lefd_1_data_df['Longitude'] = zip(*lefd_1_data_df['Full_Address'].apply(get_lat_long))\n",
    "print(lefd_1_data_df.head())"
   ]
  },
  {
   "cell_type": "code",
   "execution_count": null,
   "id": "688fd12e-edd8-4427-88d3-3bc88b2202d1",
   "metadata": {},
   "outputs": [],
   "source": [
    "# Save the dataframes to a new CSV file\n",
    "csi360_customers_df.to_csv('C:/Users/jchan/csi360_fire_police/lefd-custy-targets/resources/Output/csi360_custy_latlong.csv', index=False)\n",
    "lefd_1_data_df.to_csv('C:/Users/jchan/csi360_fire_police/lefd-custy-targets/resources/Output/lefd_latlong.csv', index=False)"
   ]
  },
  {
   "cell_type": "markdown",
   "id": "3ab17d4d-0500-4119-a7f5-70fb91951e4f",
   "metadata": {},
   "source": [
    "## Use Haversine Formula to calculate distances between latitude and longitude pairs \n",
    "### Source: https://stackoverflow.com/questions/29545704/fast-haversine-approximation-python-pandas"
   ]
  },
  {
   "cell_type": "code",
   "execution_count": 5,
   "id": "6227ba8a-bf16-48e1-b8ce-b5251d1d8862",
   "metadata": {},
   "outputs": [
    {
     "name": "stdout",
     "output_type": "stream",
     "text": [
      "                            company           contact      zip   Latitude  \\\n",
      "0  Berkeley County Sheriff's Office  Lt. Geno Alterio  29461.0  33.146521   \n",
      "1     Blytheville Police Department   Vanessa Stewart  72315.0  35.893377   \n",
      "\n",
      "   Longitude  \n",
      "0 -79.986407  \n",
      "1 -89.906631                          agency_name              agency_type  \\\n",
      "0  New York City Police Department  Local police department   \n",
      "1              Chicago Police Dept  Local police department   \n",
      "\n",
      "   sworn_active_persnl hq_addr1 hq_addr2 hq_city hq_state hq_zip  \\\n",
      "0                36023                                             \n",
      "1                13354                                             \n",
      "\n",
      "                         addr1 addr2  ...    county    zip hq_ph hq_fax  \\\n",
      "0  One Police Plaza, Room 1400        ...  New York  10038                \n",
      "1              3510 S Michigan        ...      Cook  60653                \n",
      "\n",
      "   org_type website   fips                                     Full_Address  \\\n",
      "0                    36061  One Police Plaza, Room 1400, New York, NY 10038   \n",
      "1                    17031               3510 S Michigan, Chicago, IL 60653   \n",
      "\n",
      "    Latitude  Longitude  \n",
      "0  40.712062 -74.002385  \n",
      "1  41.830226 -87.623808  \n",
      "\n",
      "[2 rows x 23 columns]\n"
     ]
    }
   ],
   "source": [
    "# Load the CSV files into dataframes\n",
    "csi360_customers_df = pd.read_csv('resources/Output/csi360_custy_latlong.csv')\n",
    "lefd_latlong_df = pd.read_csv('resources/Output/lefd_latlong.csv')\n",
    "\n",
    "print(csi360_customers_df.head(2), lefd_latlong_df.head(2))"
   ]
  },
  {
   "cell_type": "code",
   "execution_count": 3,
   "id": "d808677f-1cda-47c0-867e-18beb265f973",
   "metadata": {},
   "outputs": [],
   "source": [
    "# Haversine formula to calculate the distance between two lat/lon pairs\n",
    "def haversine(lat1, lon1, lat2, lon2):\n",
    "    R = 3958.8  # Earth radius in miles\n",
    "    lat1, lon1, lat2, lon2 = map(np.radians, [lat1, lon1, lat2, lon2])\n",
    "    dlat = lat2 - lat1\n",
    "    dlon = lon2 - lon1\n",
    "    a = np.sin(dlat / 2) ** 2 + np.cos(lat1) * np.cos(lat2) * np.sin(dlon / 2) ** 2\n",
    "    c = 2 * np.arcsin(np.sqrt(a))\n",
    "    return R * c"
   ]
  },
  {
   "cell_type": "code",
   "execution_count": 4,
   "id": "a63c296d-5bc9-4659-8f94-862b73eb311b",
   "metadata": {},
   "outputs": [],
   "source": [
    "# Function to filter agencies within 100 miles using Haversine formula\n",
    "def filter_agencies_within_100_miles(lefd_latlong_df, csi360_customers_df):\n",
    "    results = []\n",
    "\n",
    " # Iterate over each company in csi360_customers_df\n",
    "    for _, company_row in csi360_customers_df.iterrows():\n",
    "        company_name = company_row['company']\n",
    "        company_coords = (company_row['Latitude'], company_row['Longitude'])\n",
    "\n",
    " # Check each agency in lefd_latlong_df\n",
    "        for _, agency_row in lefd_latlong_df.iterrows():\n",
    "            try:\n",
    "                agency_coords = (agency_row['Latitude'], agency_row['Longitude'])\n",
    "                distance = haversine(company_coords[0], company_coords[1], agency_coords[0], agency_coords[1])\n",
    "                \n",
    "                # If distance is within 100 miles, store the result\n",
    "                if distance <= 100:\n",
    "                    results.append({\n",
    "                        'company': company_name,\n",
    "                        **agency_row.to_dict()  # Include all columns from lefd_latlong_df\n",
    "                    })\n",
    "            except Exception as e:\n",
    "                print(f\"Error calculating distance for {agency_row['agency_name']}: {e}\")\n",
    "    \n",
    "    # Convert results to a DataFrame\n",
    "    results_df = pd.DataFrame(results)\n",
    "\n",
    "    # Print the first 5 results for verification\n",
    "    print(results_df.head(5))"
   ]
  },
  {
   "cell_type": "code",
   "execution_count": null,
   "id": "bab12109-37a1-49b6-a9a9-a2446ca14712",
   "metadata": {},
   "outputs": [],
   "source": []
  },
  {
   "cell_type": "code",
   "execution_count": null,
   "id": "418c9596-a891-4eea-97d0-064ec1fc871e",
   "metadata": {},
   "outputs": [],
   "source": []
  }
 ],
 "metadata": {
  "kernelspec": {
   "display_name": "Python 3 (ipykernel)",
   "language": "python",
   "name": "python3"
  },
  "language_info": {
   "codemirror_mode": {
    "name": "ipython",
    "version": 3
   },
   "file_extension": ".py",
   "mimetype": "text/x-python",
   "name": "python",
   "nbconvert_exporter": "python",
   "pygments_lexer": "ipython3",
   "version": "3.11.9"
  }
 },
 "nbformat": 4,
 "nbformat_minor": 5
}
