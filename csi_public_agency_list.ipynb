{
 "cells": [
  {
   "cell_type": "markdown",
   "id": "24e0f5ed",
   "metadata": {},
   "source": [
    "# Geocoding Police Fire Departments and Mapping to CSI360 Customer Locations\n",
    "\n",
    "- Import and data from CSI360 Police and Fire List.\n",
    "- Geocode addresses to obtain latitude and longitude coordinates.\n",
    "- Insert latitude and longitude columns into data file.\n",
    "- Check each department location and identify if it is within 100 miles of the customer locations.\n",
    "- Separate the dataframe for departments within 100 miles for each customer location.\n",
    "- Export the data to CSV files for further analysis and reporting."
   ]
  },
  {
   "cell_type": "code",
   "execution_count": null,
   "id": "369d6011",
   "metadata": {},
   "outputs": [],
   "source": [
    "# Dependencies and Setup\n",
    "import pandas as pd\n",
    "from geopy.geocoders import GoogleV3\n",
    "from geopy.distance import geodesic\n",
    "# import folium # Use to create html map\n",
    "# from folium import plugins # Use to create html map\n",
    "from ratelimit import limits, sleep_and_retry\n",
    "import time\n",
    "\n",
    "# from dotenv import load_dotenv # remove if \"with open...\" works\n",
    "import os\n",
    "\n",
    "# Manually load API key from .env file. # Remove code associated with dotenv if this works\n",
    "with open('C:/Users/jchan/csi360_fire_police/lefd-custy-targets/.env', 'r') as f:\n",
    "    for line in f:\n",
    "        if line.startswith('GOOGLE_MAPS_API_KEY'):\n",
    "            google_api_key = line.split('=')[1].strip()\n",
    "            # print(f\"Loaded API Key: {google_api_key}\")\n",
    "\n",
    "\n",
    "# load_dotenv(\".env\")  # remove if \"with open...\" works\n",
    "# google_api_key = os.getenv('GOOGLE_MAPS_API_KEY') # remove if \"with open...\" works"
   ]
  },
  {
   "cell_type": "code",
   "execution_count": null,
   "id": "3e97bb9a",
   "metadata": {
    "scrolled": true
   },
   "outputs": [],
   "source": [
    "# Store filepath in a variable\n",
    "lefd_1_data = 'resources/data/lefd_1_data.csv'\n",
    "csi360_customers = 'resources/data/csi360_customers.csv'\n",
    "\n",
    "# Read each of the respective files (police, fire, agency_n, agency_addrs) and store into Pandas dataframe\n",
    "lefd_1_data_df = pd.read_csv(lefd_1_data)\n",
    "csi360_customers_df = pd.read_csv(csi360_customers)\n",
    "\n",
    "# Convert the 'zip' column to integer, then back to string to remove decimals\n",
    "csi360_customers_df['zip'] = csi360_customers_df['zip'].fillna(\"\").apply(lambda x: str(int(float(x))) if x != \"\" else \"\")\n",
    "\n",
    "display(lefd_1_data_df.head(), csi360_customers_df.head())"
   ]
  },
  {
   "cell_type": "code",
   "execution_count": null,
   "id": "8468e976-38b4-4ce8-8967-a8b680a73f27",
   "metadata": {},
   "outputs": [],
   "source": [
    "## Geocode CSI360 customer zip codes"
   ]
  },
  {
   "cell_type": "code",
   "execution_count": null,
   "id": "16bc26a2-b03a-4cd3-b798-1ff66a36fc14",
   "metadata": {},
   "outputs": [],
   "source": [
    "# Initialize geolocator. \n",
    "geolocator = GoogleV3(api_key=google_api_key)"
   ]
  },
  {
   "cell_type": "code",
   "execution_count": null,
   "id": "7b90105d-c220-4803-a300-d6d9fa063099",
   "metadata": {},
   "outputs": [],
   "source": [
    "# Function to get geocode based on zip code\n",
    "\n",
    "def get_lat_long(zip_code):\n",
    "    if zip_code == \"\":  # Skip empty ZIP codes\n",
    "        return None, None\n",
    "    try:\n",
    "        # Use the ZIP code directly to get the location\n",
    "        location = geolocator.geocode(zip_code)\n",
    "        if location:\n",
    "            return location.latitude, location.longitude\n",
    "        else:\n",
    "            print(f\"Geocoding failed for ZIP code: {zip_code}\")  # Log failed geocodes\n",
    "            return None, None\n",
    "    except Exception as e:\n",
    "        print(f\"Error geocoding {zip_code}: {e}\")\n",
    "        return None, None\n",
    "\n",
    "# Apply the geocode function to get Latitude and Longitude for each row in the cleaned DataFrame\n",
    "csi360_customers_df['Latitude'], csi360_customers_df['Longitude'] = zip(*csi360_customers_df['zip'].apply(get_lat_long))\n",
    "\n",
    "# Fill NaN values in 'Latitude' and 'Longitude' with empty strings\n",
    "csi360_customers_df['Latitude'] = csi360_customers_df['Latitude'].fillna(\"\")\n",
    "csi360_customers_df['Longitude'] = csi360_customers_df['Longitude'].fillna(\"\")\n",
    "\n",
    "# Print the first few rows to verify\n",
    "print(csi360_customers_df.head())\n"
   ]
  },
  {
   "cell_type": "markdown",
   "id": "195bd942-a7bd-4dfd-a3b2-2e706379219c",
   "metadata": {},
   "source": [
    "## Geocode Colorado Fire Deptartment Addresses\n"
   ]
  },
  {
   "cell_type": "code",
   "execution_count": null,
   "id": "0966f209-d5f1-4c02-b7ec-e819d2860b75",
   "metadata": {},
   "outputs": [],
   "source": [
    "# Function to get latitude and longitude from address\n",
    "# Set rate limit to 25 requests per second\n",
    "# Google geocoding API allows around 50 queries per second, I've adjusted to 25 to be safe\n",
    "RATE_LIMIT = 25  # requests per second\n",
    "TIME_PERIOD = 1  # time period in seconds\n",
    "\n",
    "# Function to get latitude and longitude from address with rate limiter\n",
    "@sleep_and_retry\n",
    "@limits(calls=RATE_LIMIT, period=TIME_PERIOD)\n",
    "def get_lat_long(address):\n",
    "    try:\n",
    "        location = geolocator.geocode(address)\n",
    "        if location:\n",
    "            return location.latitude, location.longitude\n",
    "        else:\n",
    "            return None, None\n",
    "    except Exception as e:\n",
    "        print(f\"Error geocoding {address}: {e}\")\n",
    "        return None, None"
   ]
  },
  {
   "cell_type": "code",
   "execution_count": null,
   "id": "b0a8bccc-b168-48dc-8a50-1f240b88447d",
   "metadata": {},
   "outputs": [],
   "source": [
    "# Test with a known address\n",
    "location = geolocator.geocode(\"1600 Pennsylvania Ave NW, Washington, DC 20500\")\n",
    "print(location.latitude, location.longitude)"
   ]
  },
  {
   "cell_type": "code",
   "execution_count": null,
   "id": "c145b126-6c46-49d5-a50e-a1b381b2b186",
   "metadata": {},
   "outputs": [],
   "source": [
    "# Combine address fields and get latitude/longitude\n",
    "lefd_1_data_df['Full_Address'] = lefd_1_data_df['addr1'] + ', ' + lefd_1_data_df['city'] + ', ' + lefd_1_data_df['state'] + ' ' + lefd_1_data_df['zip'].astype(str)\n",
    "lefd_1_data_df['Latitude'], lefd_1_data_df['Longitude'] = zip(*lefd_1_data_df['Full_Address'].apply(get_lat_long))\n",
    "print(lefd_1_data_df.head())"
   ]
  },
  {
   "cell_type": "code",
   "execution_count": null,
   "id": "688fd12e-edd8-4427-88d3-3bc88b2202d1",
   "metadata": {},
   "outputs": [],
   "source": []
  }
 ],
 "metadata": {
  "kernelspec": {
   "display_name": "Python 3 (ipykernel)",
   "language": "python",
   "name": "python3"
  },
  "language_info": {
   "codemirror_mode": {
    "name": "ipython",
    "version": 3
   },
   "file_extension": ".py",
   "mimetype": "text/x-python",
   "name": "python",
   "nbconvert_exporter": "python",
   "pygments_lexer": "ipython3",
   "version": "3.11.9"
  }
 },
 "nbformat": 4,
 "nbformat_minor": 5
}
